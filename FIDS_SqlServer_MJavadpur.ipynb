{
 "cells": [
  {
   "cell_type": "code",
   "execution_count": 10,
   "id": "a96e4b04",
   "metadata": {},
   "outputs": [],
   "source": [
    "import requests\n",
    "import json\n",
    "import pyodbc\n",
    "requests.packages.urllib3.disable_warnings() \n"
   ]
  },
  {
   "cell_type": "code",
   "execution_count": 18,
   "id": "ee9706fa",
   "metadata": {},
   "outputs": [],
   "source": [
    "\n",
    "server = '.'\n",
    "database = 'fids' \n",
    "username = ''# 'fids_user' \n",
    "password = ''\n",
    "conn = pyodbc.connect('DRIVER={SQL Server};SERVER='+server+';DATABASE='+database+';UID='+username+';PWD='+ password)\n",
    "\n"
   ]
  },
  {
   "cell_type": "code",
   "execution_count": 25,
   "id": "4dc3baa1",
   "metadata": {},
   "outputs": [
    {
     "name": "stdout",
     "output_type": "stream",
     "text": [
      "1402-02-01\n",
      "1402-02-02\n",
      "1402-02-03\n",
      "1402-02-04\n",
      "1402-02-05\n",
      "1402-02-06\n",
      "1402-02-07\n",
      "1402-02-08\n",
      "1402-02-09\n",
      "1402-02-10\n",
      "1402-02-11\n",
      "1402-02-12\n",
      "1402-02-13\n",
      "1402-02-14\n",
      "Total: 1280\n"
     ]
    }
   ],
   "source": [
    "cursor = conn.cursor()\n",
    "airline = 'tbz'\n",
    "url = 'https://ais.airport.ir/NetForm/Service/fids'\n",
    "\n",
    "total = 0\n",
    "for day in range(1, 15):\n",
    "    \n",
    "    date = f'1402-02-{\"0\" + str(day)}' if day < 10 else f'1402-02-{str(day)}'\n",
    "    print(date)\n",
    "    param = {\n",
    "        'date' : date,\n",
    "        'airline':airline,\n",
    "        'AUTH_TOKEN':7012367\n",
    "    }\n",
    "    headers = {\n",
    "        'User-Agent': 'Mozilla/5.0 (Windows NT 6.1; WOW64) AppleWebKit/537.36 (KHTML, like Gecko) Chrome/56.0.2924.76 Safari/537.36',\n",
    "        'Upgrade-Insecure-Requests': '1',\n",
    "        'DNT': '1',\n",
    "        'Accept': 'text/html,application/xhtml+xml,application/xml;q=0.9,*/*;q=0.8',\n",
    "        'Accept-Language': 'en-US,en;q=0.5',\n",
    "        'Accept-Encoding': 'gzip, deflate'\n",
    "    }\n",
    "    response = requests.get(url,params=param, headers=headers, verify=False)\n",
    "    response_text = response.content.decode('utf-8')\n",
    "    data = json.loads(response.text)\n",
    "    flights = data['Flights']\n",
    "    subtotal = 0\n",
    "    for item in flights:\n",
    "        origin = item['origin_icao']\n",
    "        destination = item['destination_icao']\n",
    "        register = item['register']\n",
    "        flight_num = item['flight_num']\n",
    "        airplane = item['airplane_type']\n",
    "        airline_icao = item['airline_icao']\n",
    "        dow = item['dow']\n",
    "        status_ = item['status1']\n",
    "        status1_ = item['status2']\n",
    "        status2_ = item['second_status']\n",
    "        type_ = item['type_']\n",
    "        delay_ = 0 if item['delay'] == 'NULL' else item['delay']\n",
    "        international = 0 if item['international']== \"false\" else 1\n",
    "        scheduled_date = item['scheduled_date']\n",
    "        scheduled_time = item['scheduled_time']\n",
    "        actual_date = item['actual_date']\n",
    "        actual_time = item['actual_time']\n",
    "        miladi_scheduled = item['miladi_scheduled']\n",
    "        miladi_actual = item['miladi_actual']\n",
    "        vals = [origin,destination,register,flight_num,airplane,airline.upper(),airline_icao,dow,status_,status1_,status2_,type_,delay_,international,scheduled_date,scheduled_time,actual_date,actual_time,miladi_scheduled,miladi_actual]\n",
    "        sql = \"\"\" insert into fids (origin,destination,register,flight_num,airplane,airline,airline_icao,dow,status_,status1_,status2_,type_,delay_,international,scheduled_date,scheduled_time,actual_date,actual_time,miladi_scheduled,miladi_actual)\n",
    "                values (?,?,?,?,?,?,?,?,?,?,?,?,?,?,?,?,?,?,?,?); \"\"\"\n",
    "        try:\n",
    "            cursor.execute(sql,vals)\n",
    "            subtotal += 1\n",
    "            conn.commit()\n",
    "        except pyodbc.Error as error:\n",
    "            print(error)\n",
    "    total += subtotal\n",
    "cursor.close()\n",
    "print('Total:',total)\n"
   ]
  },
  {
   "cell_type": "code",
   "execution_count": null,
   "id": "99772155",
   "metadata": {},
   "outputs": [],
   "source": []
  }
 ],
 "metadata": {
  "kernelspec": {
   "display_name": "Python 3 (ipykernel)",
   "language": "python",
   "name": "python3"
  },
  "language_info": {
   "codemirror_mode": {
    "name": "ipython",
    "version": 3
   },
   "file_extension": ".py",
   "mimetype": "text/x-python",
   "name": "python",
   "nbconvert_exporter": "python",
   "pygments_lexer": "ipython3",
   "version": "3.10.9"
  }
 },
 "nbformat": 4,
 "nbformat_minor": 5
}
