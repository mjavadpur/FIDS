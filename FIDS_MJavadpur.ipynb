{
  "nbformat": 4,
  "nbformat_minor": 0,
  "metadata": {
    "colab": {
      "provenance": [],
      "mount_file_id": "1tIPjKgWt6Q3NNyFYHDx3f8RYyzuy88xi",
      "authorship_tag": "ABX9TyMUofgoWP3B5IHvVX/14506",
      "include_colab_link": true
    },
    "kernelspec": {
      "name": "python3",
      "display_name": "Python 3"
    },
    "language_info": {
      "name": "python"
    }
  },
  "cells": [
    {
      "cell_type": "markdown",
      "metadata": {
        "id": "view-in-github",
        "colab_type": "text"
      },
      "source": [
        "<a href=\"https://colab.research.google.com/github/mjavadpur/FIDS/blob/main/FIDS_MJavadpur.ipynb\" target=\"_parent\"><img src=\"https://colab.research.google.com/assets/colab-badge.svg\" alt=\"Open In Colab\"/></a>"
      ]
    },
    {
      "cell_type": "markdown",
      "source": [],
      "metadata": {
        "id": "GPmS-pDpHNxO"
      }
    },
    {
      "cell_type": "code",
      "source": [
        "import requests\n",
        "import json\n",
        "import csv\n",
        "requests.packages.urllib3.disable_warnings() \n",
        "\n"
      ],
      "metadata": {
        "id": "VlXe-AAjR3uN"
      },
      "execution_count": 2,
      "outputs": []
    },
    {
      "cell_type": "code",
      "source": [
        "from google.colab import drive\n",
        "drive.mount('/content/drive')\n",
        "\n",
        "csv_file = open('/content/drive/MyDrive/Workshop/FIDS/data.csv', 'w', newline='')\n"
      ],
      "metadata": {
        "id": "JxWWNsraMeR9",
        "colab": {
          "base_uri": "https://localhost:8080/"
        },
        "outputId": "4e5dc590-7da3-4c05-af3f-5c41b7ca862e"
      },
      "execution_count": 3,
      "outputs": [
        {
          "output_type": "stream",
          "name": "stdout",
          "text": [
            "Drive already mounted at /content/drive; to attempt to forcibly remount, call drive.mount(\"/content/drive\", force_remount=True).\n"
          ]
        }
      ]
    },
    {
      "cell_type": "code",
      "source": [
        "\n",
        "airln = 'tbz'\n",
        "url = 'https://ais.airport.ir/NetForm/Service/fids'\n",
        "\n",
        "\n",
        "csv_writer = csv.writer(csv_file)\n",
        "\n",
        "\n",
        "for d in range(1, 15):\n",
        "    curr_date = f'1402-02-{\"0\" + str(d)}' if d <= 9 else f'1402-02-{str(d)}'\n",
        "    param = { 'date' : curr_date, 'airline':airln, 'AUTH_TOKEN':7012367}\n",
        "    headers = {\n",
        "        'User-Agent': 'Mozilla/5.0 (Windows NT 6.1; WOW64) AppleWebKit/537.36 (KHTML, like Gecko) Chrome/56.0.2924.76 Safari/537.36',\n",
        "        'Upgrade-Insecure-Requests': '1',\n",
        "        'DNT': '1',\n",
        "        'Accept': 'text/html,application/xhtml+xml,application/xml;q=0.9,*/*;q=0.8',\n",
        "        'Accept-Language': 'en-US,en;q=0.5',\n",
        "        'Accept-Encoding': 'gzip, deflate'\n",
        "    }\n",
        "    response = requests.get(url,params=param, headers=headers, verify=False)\n",
        "    response_text = response.content.decode('utf-8')\n",
        "    data = json.loads(response.text)\n",
        "\n",
        "    \n",
        "\n",
        "    # write the header row to the CSV file\n",
        "    if day == 1:\n",
        "      header = data[0].keys()\n",
        "      csv_writer.writerow(header)\n",
        "\n",
        "    # write each dictionary in the list as a row in the CSV file\n",
        "    for row in data:\n",
        "        csv_writer.writerow(row.values())\n",
        "\n",
        "        \n",
        "csv_file.close()"
      ],
      "metadata": {
        "id": "yv0nibeTUHWW"
      },
      "execution_count": null,
      "outputs": []
    }
  ]
}