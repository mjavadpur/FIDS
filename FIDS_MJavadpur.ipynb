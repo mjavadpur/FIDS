{
 "cells": [
  {
   "cell_type": "markdown",
   "metadata": {
    "id": "GPmS-pDpHNxO"
   },
   "source": []
  },
  {
   "cell_type": "code",
   "execution_count": 1,
   "metadata": {
    "executionInfo": {
     "elapsed": 4,
     "status": "ok",
     "timestamp": 1683819118942,
     "user": {
      "displayName": "M Javadpur",
      "userId": "12082907998853907998"
     },
     "user_tz": -210
    },
    "id": "VlXe-AAjR3uN"
   },
   "outputs": [],
   "source": [
    "import requests\n",
    "import json\n",
    "import csv\n",
    "requests.packages.urllib3.disable_warnings() \n",
    "\n"
   ]
  },
  {
   "cell_type": "code",
   "execution_count": 12,
   "metadata": {
    "colab": {
     "base_uri": "https://localhost:8080/"
    },
    "executionInfo": {
     "elapsed": 14141,
     "status": "ok",
     "timestamp": 1683819135556,
     "user": {
      "displayName": "M Javadpur",
      "userId": "12082907998853907998"
     },
     "user_tz": -210
    },
    "id": "JxWWNsraMeR9",
    "outputId": "4e5dc590-7da3-4c05-af3f-5c41b7ca862e"
   },
   "outputs": [],
   "source": [
    "csv_file = open('data3.csv', 'w',encoding=\"utf-8\", newline='')\n",
    "airline = 'tbz'\n",
    "url = 'https://ais.airport.ir/NetForm/Service/fids'\n",
    "\n",
    "\n",
    "csv_writer = csv.writer(csv_file)\n",
    "\n",
    "\n",
    "for d in range(1, 15):\n",
    "    curr_date = f'1402-02-{\"0\" + str(d)}' if d <= 9 else f'1402-02-{str(d)}'\n",
    "    param = { 'date' : curr_date, 'airline':airline, 'AUTH_TOKEN':7012367}\n",
    "    headers = {\n",
    "        'User-Agent': 'Mozilla/5.0 (Windows NT 6.1; WOW64) AppleWebKit/537.36 (KHTML, like Gecko) Chrome/56.0.2924.76 Safari/537.36',\n",
    "        'Upgrade-Insecure-Requests': '1',\n",
    "        'DNT': '1',\n",
    "        'Accept': 'text/html,application/xhtml+xml,application/xml;q=0.9,*/*;q=0.8',\n",
    "        'Accept-Language': 'en-US,en;q=0.5',\n",
    "        'Accept-Encoding': 'gzip, deflate'\n",
    "    }\n",
    "    response = requests.get(url,params=param, headers=headers, verify=False)\n",
    "    response_text = response.content.decode('utf-8')\n",
    "    data = json.loads(response.text)\n",
    "\n",
    "#     print(data)\n",
    "\n",
    "    header = ('origin','destination','register','flight_num','airplane','airline','airline_icao',\n",
    "              'dow','status_','status1_','status2_','type_','delay_','international','scheduled_date',\n",
    "              'scheduled_time','actual_date','actual_time','miladi_scheduled','miladi_actual')\n",
    "    csv_writer.writerow(header)\n",
    "    \n",
    "    \n",
    "    flights = data['Flights']\n",
    "    \n",
    "    for item in flights:\n",
    "        origin = item['origin_icao']\n",
    "        destination = item['destination_icao']\n",
    "        register = item['register']\n",
    "        flight_num = item['flight_num']\n",
    "        airplane = item['airplane_type']\n",
    "        airline_icao = item['airline_icao']\n",
    "        dow = item['dow']\n",
    "        status_ = item['status1']\n",
    "        status1_ = item['status2']\n",
    "        status2_ = item['second_status']\n",
    "        type_ = item['type_']\n",
    "        delay_ = 0 if item['delay'] == 'NULL' else item['delay']\n",
    "        international = 0 if item['international']== \"false\" else 1\n",
    "        scheduled_date = item['scheduled_date']\n",
    "        scheduled_time = item['scheduled_time']\n",
    "        actual_date = item['actual_date']\n",
    "        actual_time = item['actual_time']\n",
    "        miladi_scheduled = item['miladi_scheduled']\n",
    "        miladi_actual = item['miladi_actual']\n",
    "        vals = (origin,destination,register,flight_num,airplane,airline.upper(),airline_icao,dow,status_,status1_,status2_,type_,delay_,international,scheduled_date,scheduled_time,actual_date,actual_time,miladi_scheduled,miladi_actual)\n",
    "        csv_writer.writerow(vals)\n",
    "\n",
    "        \n",
    "csv_file.close()"
   ]
  },
  {
   "cell_type": "code",
   "execution_count": 11,
   "metadata": {
    "id": "yv0nibeTUHWW"
   },
   "outputs": [],
   "source": []
  }
 ],
 "metadata": {
  "colab": {
   "authorship_tag": "ABX9TyMUofgoWP3B5IHvVX/14506",
   "mount_file_id": "1tIPjKgWt6Q3NNyFYHDx3f8RYyzuy88xi",
   "provenance": []
  },
  "kernelspec": {
   "display_name": "Python 3 (ipykernel)",
   "language": "python",
   "name": "python3"
  },
  "language_info": {
   "codemirror_mode": {
    "name": "ipython",
    "version": 3
   },
   "file_extension": ".py",
   "mimetype": "text/x-python",
   "name": "python",
   "nbconvert_exporter": "python",
   "pygments_lexer": "ipython3",
   "version": "3.10.9"
  }
 },
 "nbformat": 4,
 "nbformat_minor": 1
}
